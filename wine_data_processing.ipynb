{
 "cells": [
  {
   "cell_type": "code",
   "execution_count": 22,
   "metadata": {},
   "outputs": [
    {
     "name": "stdout",
     "output_type": "stream",
     "text": [
      "[6. 6. 6. 6. 6. 6. 6. 6. 7. 7. 5. 6. 5. 6. 6. 3. 6. 5. 5. 3. 6. 5. 6. 6.\n",
      " 5. 5. 5. 6. 4. 5. 4. 5. 5. 6. 6. 6. 6. 6. 5. 6. 6. 6. 5. 7. 5. 5. 5. 7.\n",
      " 6. 5. 5. 5. 5. 7. 5. 5. 6. 5. 5. 4. 5. 6. 6. 6. 4. 6. 7. 5. 5. 7. 5. 5.\n",
      " 6. 7. 6. 7. 8. 6. 6. 6. 6. 6. 6. 5. 6. 6. 6. 5. 5. 6. 6. 7. 5. 5. 5. 6.\n",
      " 5. 5. 5. 5. 6. 5. 8. 5. 5. 6. 5. 6. 5. 5. 5. 5. 5. 7. 6. 6. 6. 5. 6. 7.\n",
      " 6. 5. 5. 6. 7. 6. 6. 6. 6. 6. 8. 6. 5. 4. 5. 6. 5. 7. 5. 6. 6. 5. 6. 7.\n",
      " 6. 6. 6. 5. 8. 5. 5. 6. 6. 6. 4. 6. 6. 6. 6. 7. 6. 5. 5. 5. 6. 6. 8. 7.\n",
      " 4. 5. 5. 5. 5. 7. 5. 5. 6. 5. 5. 6. 5. 5. 6. 5. 5. 5. 6. 6. 6. 6. 6. 6.\n",
      " 6. 6. 6. 5. 6. 6. 5. 6. 7. 6. 5. 6. 7. 7. 5. 5. 6. 5. 6. 6. 5. 7. 5. 5.\n",
      " 6. 6. 5. 6. 6. 6. 6. 6. 6. 4. 7. 6. 5. 6. 6. 7. 5. 6. 6. 6. 7. 5. 6. 6.\n",
      " 7. 6. 6. 7. 5. 5. 7. 5. 7. 5. 3. 6. 5. 5. 6. 6. 5. 6. 6. 5. 5. 6. 6. 6.\n",
      " 5. 6. 7. 6. 7. 6. 6. 5. 6. 6. 6. 6. 6. 6. 7. 6. 7. 5. 5. 6. 7. 5.]\n"
     ]
    }
   ],
   "source": [
    "import pandas as pd \n",
    "from sklearn.model_selection import train_test_split\n",
    "from sklearn.tree import DecisionTreeRegressor\n",
    "\n",
    "df = pd.read_csv('WineQT.csv')\n",
    "df = df.drop(columns='Id')\n",
    "\n",
    "y=df.quality\n",
    "features=['fixed acidity', 'volatile acidity', 'citric acid', 'residual sugar',\n",
    "       'chlorides', 'free sulfur dioxide', 'total sulfur dioxide', 'density',\n",
    "       'pH', 'sulphates', 'alcohol']\n",
    "X = df[features]\n",
    "\n",
    "X_train, X_val, y_train, y_val = train_test_split(X,y,random_state=0)\n",
    "df_model = DecisionTreeRegressor()\n",
    "df_model.fit(X_train, y_train)\n",
    "\n",
    "qual_predictions = df_model.predict(X_val)\n",
    "print(qual_predictions)"
   ]
  },
  {
   "cell_type": "code",
   "execution_count": 24,
   "metadata": {},
   "outputs": [
    {
     "name": "stdout",
     "output_type": "stream",
     "text": [
      "[6. 5. 6. 6. 5. 7. 5. 6. 5. 6. 6. 5. 6. 6. 6. 6. 5. 6. 5. 7. 5. 6. 5. 6.\n",
      " 6. 6. 6. 6. 7. 7. 6. 5. 7. 6. 5. 5. 6. 4. 5. 5. 7. 6. 7. 6. 6. 5. 6. 5.\n",
      " 5. 6. 5. 5. 6. 5. 4. 5. 6. 5. 6. 5. 5. 5. 5. 6. 6. 7. 5. 5. 6. 4. 6. 7.\n",
      " 6. 5. 5. 5. 6. 5. 6. 6. 5. 5. 5. 6. 6. 6. 6. 5. 6. 7. 6. 6. 6. 7. 5. 6.\n",
      " 7. 6. 6. 5. 7. 7. 6. 8. 5. 6. 6. 3. 5. 5. 5. 6. 6. 5. 7. 7. 6. 5. 6. 6.\n",
      " 5. 6. 7. 6. 6. 6. 5. 7. 5. 6. 5. 6. 5. 6. 7. 8. 5. 5. 6. 6. 6. 5. 7. 6.\n",
      " 5. 7. 6. 5. 4. 7. 7. 6. 5. 5. 5. 6. 6. 5. 6. 6. 4. 7. 6. 5. 6. 5. 5. 6.\n",
      " 6. 7. 5. 6. 5. 6. 5. 6. 5. 6. 6. 7. 6. 7. 6. 6. 5. 5. 7. 5. 5. 7. 7. 6.\n",
      " 6. 6. 7. 6. 6. 6. 5. 5. 6. 5. 7. 5. 6. 7. 7. 5. 5. 5. 7. 5. 5. 5. 7. 6.\n",
      " 5. 3. 5. 7. 6. 6. 5. 4. 6. 7. 7. 5. 6. 5. 6. 5. 6. 5. 6. 6. 5. 5. 5. 7.\n",
      " 5. 5. 6. 5. 5. 6. 6. 7. 6. 5. 6. 5. 4. 7. 6. 6. 6. 7. 6. 5. 5. 6. 6. 6.\n",
      " 5. 7. 5. 5. 5. 6. 5. 6. 6. 7. 5. 5. 5. 7. 7. 6. 5. 6. 5. 5. 5. 5.]\n"
     ]
    }
   ],
   "source": [
    "from sklearn.preprocessing import MinMaxScaler\n",
    "\n",
    "y=df.quality\n",
    "features=['fixed acidity', 'volatile acidity', 'citric acid', 'residual sugar',\n",
    "       'chlorides', 'free sulfur dioxide', 'total sulfur dioxide', 'density',\n",
    "       'pH', 'sulphates', 'alcohol']\n",
    "X = df[features]\n",
    "\n",
    "X_train, X_val, y_train, y_val = train_test_split(X,y,random_state=1)\n",
    "df_model = DecisionTreeRegressor(random_state=1)\n",
    "\n",
    "\n",
    "df_model_norm =  MinMaxScaler().fit(X_train)\n",
    "X_train_norm = df_model_norm.transform(X_train)\n",
    "X_val_norm = df_model_norm.transform(X_val)\n",
    "\n",
    "df_model.fit(X_train, y_train)\n",
    "\n",
    "qual_predictions = df_model.predict(X_val)\n",
    "\n",
    "print(qual_predictions)"
   ]
  }
 ],
 "metadata": {
  "interpreter": {
   "hash": "40d3a090f54c6569ab1632332b64b2c03c39dcf918b08424e98f38b5ae0af88f"
  },
  "kernelspec": {
   "display_name": "Python 3.9.7 ('base')",
   "language": "python",
   "name": "python3"
  },
  "language_info": {
   "codemirror_mode": {
    "name": "ipython",
    "version": 3
   },
   "file_extension": ".py",
   "mimetype": "text/x-python",
   "name": "python",
   "nbconvert_exporter": "python",
   "pygments_lexer": "ipython3",
   "version": "3.9.7"
  },
  "orig_nbformat": 4
 },
 "nbformat": 4,
 "nbformat_minor": 2
}
