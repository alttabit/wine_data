{
 "cells": [
  {
   "cell_type": "code",
   "execution_count": 22,
   "metadata": {},
   "outputs": [],
   "source": [
    "import pandas as pd \n",
    "from sklearn.model_selection import train_test_split\n",
    "from sklearn.tree import DecisionTreeRegressor\n",
    "from sklearn import metrics\n",
    "from sklearn.metrics import precision_recall_fscore_support\n",
    "from sklearn.compose import ColumnTransformer\n",
    "from sklearn.pipeline import Pipeline\n",
    "from sklearn.impute import SimpleImputer\n",
    "from sklearn.preprocessing import StandardScaler, OneHotEncoder\n",
    "from sklearn.metrics import mean_absolute_error\n",
    "\n",
    "df = pd.read_csv('WineQT.csv')\n",
    "df = df.drop(columns='Id')\n"
   ]
  },
  {
   "cell_type": "code",
   "execution_count": 25,
   "metadata": {},
   "outputs": [
    {
     "name": "stdout",
     "output_type": "stream",
     "text": [
      "Your submitted MAE is: 0.47202797202797203\n",
      "(0.894640253211521, 0.8932633420822397, 0.8931423325292326, None)\n"
     ]
    }
   ],
   "source": [
    "y=df.quality\n",
    "features=['fixed acidity', 'volatile acidity', 'citric acid', 'residual sugar',\n",
    "       'chlorides', 'free sulfur dioxide', 'total sulfur dioxide', 'density',\n",
    "       'pH', 'sulphates', 'alcohol']\n",
    "X = df[features]\n",
    "\n",
    "X_train, X_test, y_train, y_test = train_test_split(X,y,random_state=1)\n",
    "df_model = DecisionTreeRegressor(random_state=1)\n",
    "df_model.fit(X_train, y_train)\n",
    "\n",
    "qual_predictions = df_model.predict(X)\n",
    "\n",
    "y_true = df.quality\n",
    "y_actual = df.quality\n",
    "y_pred = df_model.predict(X)\n",
    "c_matrix = metrics.confusion_matrix(y_actual, y_pred)\n",
    "\n",
    "prf = precision_recall_fscore_support(y_true, y_pred, average='weighted')\n",
    "\n",
    "transformer = Pipeline(\n",
    "    steps=[(\"imputer\", SimpleImputer(strategy=\"median\")), (\"scaler\", StandardScaler())])\n",
    "\n",
    "preprocessor = ColumnTransformer(\n",
    "    transformers=[\n",
    "        (\"num\", transformer, features),\n",
    "    ])\n",
    "\n",
    "clf = Pipeline(steps=[('preprocessor', preprocessor),\n",
    "                      ('model', df_model)\n",
    "                     ])\n",
    "clf.fit(X_train, y_train)\n",
    "\n",
    "preds = clf.predict(X_test)\n",
    "\n",
    "submitted_mae = mean_absolute_error(y_test, preds)\n",
    "print(f'Your submitted MAE is: {submitted_mae}')\n",
    "print(prf)\n"
   ]
  },
  {
   "cell_type": "code",
   "execution_count": 8,
   "metadata": {},
   "outputs": [
    {
     "name": "stdout",
     "output_type": "stream",
     "text": [
      "[[  2   0   2   2   0   0]\n",
      " [  7   0  23   3   0   0]\n",
      " [ 23  38 360  42  18   2]\n",
      " [ 13  37 323  45  37   7]\n",
      " [  4  13  80  20  23   3]\n",
      " [  0   0  11   3   2   0]]\n",
      "(0.3847436869547279, 0.3762029746281715, 0.3265618230192724, None)\n"
     ]
    }
   ],
   "source": [
    "from sklearn.preprocessing import MinMaxScaler\n",
    "\n",
    "\n",
    "y=df.quality\n",
    "features=['fixed acidity', 'volatile acidity', 'citric acid', 'residual sugar',\n",
    "       'chlorides']\n",
    "X = df[features]\n",
    "\n",
    "# Split into validation and training data\n",
    "X_train, X_val, y_train, y_val = train_test_split(X,y,random_state=1)\n",
    "# Specify Model\n",
    "df_model = DecisionTreeRegressor(random_state=1)\n",
    "\n",
    "# Fit Model\n",
    "df_model_norm =  MinMaxScaler().fit(X_train)\n",
    "# Normalise Model\n",
    "X_train_norm = df_model_norm.transform(X_train)\n",
    "X_val_norm = df_model_norm.transform(X_val)\n",
    "\n",
    "df_model.fit(X_train_norm, y_train)\n",
    "\n",
    "qual_predictions2 = df_model.predict(X_val_norm)\n",
    "\n",
    "y_true = df.quality\n",
    "y2_pred = df_model.predict(X)\n",
    "c_matrix = metrics.confusion_matrix(y_true, y2_pred)\n",
    "\n",
    "prf = precision_recall_fscore_support(y_true, y2_pred, average='weighted')\n",
    "print(c_matrix)\n",
    "print(prf)\n",
    "\n",
    "\n",
    "\n",
    "\n"
   ]
  }
 ],
 "metadata": {
  "interpreter": {
   "hash": "40d3a090f54c6569ab1632332b64b2c03c39dcf918b08424e98f38b5ae0af88f"
  },
  "kernelspec": {
   "display_name": "Python 3.9.7 ('base')",
   "language": "python",
   "name": "python3"
  },
  "language_info": {
   "codemirror_mode": {
    "name": "ipython",
    "version": 3
   },
   "file_extension": ".py",
   "mimetype": "text/x-python",
   "name": "python",
   "nbconvert_exporter": "python",
   "pygments_lexer": "ipython3",
   "version": "3.9.7"
  },
  "orig_nbformat": 4
 },
 "nbformat": 4,
 "nbformat_minor": 2
}
