{
 "cells": [
  {
   "cell_type": "code",
   "execution_count": 131,
   "metadata": {},
   "outputs": [
    {
     "name": "stdout",
     "output_type": "stream",
     "text": [
      "[6. 5. 6. 6. 5. 7. 5. 6. 5. 6. 6. 5. 6. 6. 6. 6. 5. 6. 5. 7. 5. 6. 5. 6.\n",
      " 6. 6. 6. 6. 7. 7. 6. 5. 7. 6. 5. 5. 6. 4. 5. 5. 7. 6. 7. 6. 6. 5. 6. 5.\n",
      " 5. 6. 5. 5. 6. 5. 4. 5. 6. 5. 6. 5. 5. 5. 5. 6. 6. 7. 5. 5. 6. 4. 6. 7.\n",
      " 6. 5. 5. 5. 6. 5. 6. 6. 5. 5. 5. 6. 6. 6. 6. 5. 6. 7. 6. 6. 6. 7. 5. 6.\n",
      " 7. 6. 6. 5. 7. 7. 6. 8. 5. 6. 6. 3. 5. 5. 5. 6. 6. 5. 7. 7. 6. 5. 6. 6.\n",
      " 5. 6. 7. 6. 6. 6. 5. 7. 5. 6. 5. 6. 5. 6. 7. 8. 5. 5. 6. 6. 6. 5. 7. 6.\n",
      " 5. 7. 6. 5. 4. 7. 7. 6. 5. 5. 5. 6. 6. 5. 6. 6. 4. 7. 6. 5. 6. 5. 5. 6.\n",
      " 6. 7. 5. 6. 5. 6. 5. 6. 5. 6. 6. 7. 6. 7. 6. 6. 5. 5. 7. 5. 5. 7. 7. 6.\n",
      " 6. 6. 7. 6. 6. 6. 5. 5. 6. 5. 7. 5. 6. 7. 7. 5. 5. 5. 7. 5. 5. 5. 7. 6.\n",
      " 5. 3. 5. 7. 6. 6. 5. 4. 6. 7. 7. 5. 6. 5. 6. 5. 6. 5. 6. 6. 5. 5. 5. 7.\n",
      " 5. 5. 6. 5. 5. 6. 6. 7. 6. 5. 6. 5. 4. 7. 6. 6. 6. 7. 6. 5. 5. 6. 6. 6.\n",
      " 5. 7. 5. 5. 5. 6. 5. 6. 6. 7. 5. 5. 5. 7. 7. 6. 5. 6. 5. 5. 5. 5.]\n",
      "[[  6   0   0   0   0   0]\n",
      " [  0  32   0   1   0   0]\n",
      " [  1   2 436  39   5   0]\n",
      " [  1   2  35 407  17   0]\n",
      " [  0   1   1  10 130   1]\n",
      " [  0   0   0   2   4  10]]\n"
     ]
    }
   ],
   "source": [
    "import pandas as pd \n",
    "from sklearn.model_selection import train_test_split\n",
    "from sklearn.tree import DecisionTreeRegressor\n",
    "from sklearn import metrics\n",
    "\n",
    "df = pd.read_csv('WineQT.csv')\n",
    "df = df.drop(columns='Id')\n",
    "\n",
    "y=df.quality\n",
    "features=['fixed acidity', 'volatile acidity', 'citric acid', 'residual sugar',\n",
    "       'chlorides', 'free sulfur dioxide', 'total sulfur dioxide', 'density',\n",
    "       'pH', 'sulphates', 'alcohol']\n",
    "X = df[features]\n",
    "\n",
    "X_train, X_val, y_train, y_val = train_test_split(X,y,random_state=1)\n",
    "df_model = DecisionTreeRegressor(random_state=1)\n",
    "df_model.fit(X_train, y_train)\n",
    "\n",
    "qual_predictions = df_model.predict(X_val)\n",
    "\n",
    "y_actual = df.quality\n",
    "y_predicted = df_model.predict(X)\n",
    "c_matrix = metrics.confusion_matrix(y_actual, y_predicted)\n",
    "#print(X_val)\n",
    "print(qual_predictions)\n",
    "print(c_matrix)"
   ]
  },
  {
   "cell_type": "code",
   "execution_count": 130,
   "metadata": {},
   "outputs": [
    {
     "name": "stdout",
     "output_type": "stream",
     "text": [
      "[[  0   6   0   0   0   0]\n",
      " [  0  23   0   0  10   0]\n",
      " [  0 303   8   0 172   0]\n",
      " [  0 187  29   0 246   0]\n",
      " [  0  22  20   0 101   0]\n",
      " [  0   3   1   0  12   0]]\n",
      "[6. 5. 6. 6. 5. 7. 5. 6. 5. 6. 6. 5. 6. 6. 6. 6. 5. 6. 5. 7. 5. 6. 5. 6.\n",
      " 6. 6. 6. 6. 7. 7. 6. 5. 7. 6. 5. 5. 6. 4. 5. 5. 7. 6. 7. 6. 6. 5. 6. 5.\n",
      " 5. 6. 5. 5. 6. 5. 4. 5. 6. 5. 6. 5. 5. 5. 5. 6. 6. 7. 5. 5. 6. 4. 6. 7.\n",
      " 6. 5. 5. 5. 6. 5. 6. 6. 5. 5. 5. 6. 6. 6. 6. 5. 6. 6. 6. 6. 6. 7. 5. 6.\n",
      " 7. 6. 6. 5. 7. 7. 6. 8. 5. 6. 6. 3. 5. 5. 5. 6. 6. 5. 7. 7. 6. 5. 6. 6.\n",
      " 5. 6. 7. 6. 6. 6. 5. 7. 5. 6. 5. 6. 5. 6. 7. 8. 5. 5. 6. 6. 6. 5. 7. 6.\n",
      " 5. 7. 6. 5. 4. 7. 7. 6. 5. 5. 5. 6. 6. 5. 6. 6. 4. 7. 6. 5. 6. 5. 5. 6.\n",
      " 6. 7. 5. 6. 5. 6. 5. 6. 5. 6. 6. 7. 6. 7. 6. 7. 5. 5. 7. 5. 5. 7. 7. 6.\n",
      " 6. 6. 7. 6. 6. 7. 5. 5. 6. 5. 7. 5. 6. 7. 7. 5. 5. 5. 7. 5. 5. 5. 7. 6.\n",
      " 5. 3. 5. 7. 6. 6. 5. 4. 6. 7. 7. 5. 6. 5. 6. 5. 6. 5. 6. 6. 5. 5. 5. 7.\n",
      " 5. 5. 6. 5. 5. 6. 6. 7. 6. 5. 6. 5. 4. 7. 6. 6. 6. 7. 6. 5. 5. 6. 6. 6.\n",
      " 5. 7. 5. 5. 5. 6. 5. 6. 6. 7. 5. 5. 5. 7. 7. 6. 5. 6. 5. 5. 5. 5.]\n"
     ]
    }
   ],
   "source": [
    "from sklearn.preprocessing import MinMaxScaler\n",
    "\n",
    "\n",
    "y=df.quality\n",
    "features=['fixed acidity', 'volatile acidity', 'citric acid', 'residual sugar',\n",
    "       'chlorides', 'free sulfur dioxide', 'total sulfur dioxide', 'density',\n",
    "       'pH', 'sulphates', 'alcohol']\n",
    "X = df[features]\n",
    "\n",
    "# Split into validation and training data\n",
    "X_train, X_val, y_train, y_val = train_test_split(X,y,random_state=1)\n",
    "# Specify Model\n",
    "df_model = DecisionTreeRegressor(random_state=1)\n",
    "\n",
    "# Fit Model\n",
    "df_model_norm =  MinMaxScaler().fit(X_train)\n",
    "# Normalise Model\n",
    "X_train_norm = df_model_norm.transform(X_train)\n",
    "X_val_norm = df_model_norm.transform(X_val)\n",
    "\n",
    "df_model.fit(X_train_norm, y_train)\n",
    "\n",
    "qual_predictions2 = df_model.predict(X_val_norm)\n",
    "\n",
    "y_actual = df.quality\n",
    "y_predicted = df_model.predict(X)\n",
    "c_matrix = metrics.confusion_matrix(y_actual, y_predicted)\n",
    "\n",
    "#print(X_val_norm)\n",
    "print(c_matrix)\n",
    "print(qual_predictions2)\n"
   ]
  }
 ],
 "metadata": {
  "interpreter": {
   "hash": "40d3a090f54c6569ab1632332b64b2c03c39dcf918b08424e98f38b5ae0af88f"
  },
  "kernelspec": {
   "display_name": "Python 3.9.7 ('base')",
   "language": "python",
   "name": "python3"
  },
  "language_info": {
   "codemirror_mode": {
    "name": "ipython",
    "version": 3
   },
   "file_extension": ".py",
   "mimetype": "text/x-python",
   "name": "python",
   "nbconvert_exporter": "python",
   "pygments_lexer": "ipython3",
   "version": "3.9.7"
  },
  "orig_nbformat": 4
 },
 "nbformat": 4,
 "nbformat_minor": 2
}
