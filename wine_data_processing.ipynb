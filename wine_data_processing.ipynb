{
 "cells": [
  {
   "cell_type": "code",
   "execution_count": 174,
   "metadata": {},
   "outputs": [
    {
     "name": "stdout",
     "output_type": "stream",
     "text": [
      "[[  6   0   0   0   0   0]\n",
      " [  0  32   0   1   0   0]\n",
      " [  1   2 436  39   5   0]\n",
      " [  1   2  35 407  17   0]\n",
      " [  0   1   1  10 130   1]\n",
      " [  0   0   0   2   4  10]]\n",
      "[5. 5. 5. ... 5. 6. 5.]\n"
     ]
    }
   ],
   "source": [
    "import pandas as pd \n",
    "from sklearn.model_selection import train_test_split\n",
    "from sklearn.tree import DecisionTreeRegressor\n",
    "from sklearn import metrics\n",
    "\n",
    "df = pd.read_csv('WineQT.csv')\n",
    "df = df.drop(columns='Id')\n",
    "\n",
    "y=df.quality\n",
    "features=['fixed acidity', 'volatile acidity', 'citric acid', 'residual sugar',\n",
    "       'chlorides', 'free sulfur dioxide', 'total sulfur dioxide', 'density',\n",
    "       'pH', 'sulphates', 'alcohol']\n",
    "X = df[features]\n",
    "\n",
    "X_train, X_val, y_train, y_val = train_test_split(X,y,random_state=1)\n",
    "df_model = DecisionTreeRegressor(random_state=1)\n",
    "df_model.fit(X_train, y_train)\n",
    "\n",
    "qual_predictions = df_model.predict(X)\n",
    "\n",
    "y_actual = df.quality\n",
    "y_predicted = df_model.predict(X)\n",
    "c_matrix = metrics.confusion_matrix(y_actual, y_predicted)\n",
    "#print(X_val)\n",
    "\n",
    "\n",
    "\n",
    "print(c_matrix)\n",
    "print(qual_predictions)"
   ]
  },
  {
   "cell_type": "code",
   "execution_count": 172,
   "metadata": {},
   "outputs": [
    {
     "name": "stdout",
     "output_type": "stream",
     "text": [
      "[[  2   0   2   2   0   0]\n",
      " [  7   0  23   3   0   0]\n",
      " [ 23  38 360  42  18   2]\n",
      " [ 13  37 323  45  37   7]\n",
      " [  4  13  80  20  23   3]\n",
      " [  0   0  11   3   2   0]]\n",
      "[4. 6. 5. 5. 5. 6. 5. 5. 6. 5. 6. 5. 5. 5. 7. 6. 5. 4. 5. 6. 5. 6. 6. 6.\n",
      " 5. 5. 5. 6. 5. 6. 5. 5. 7. 6. 5. 6. 6. 5. 5. 5. 4. 6. 5. 6. 6. 6. 7. 5.\n",
      " 5. 5. 5. 6. 5. 5. 6. 6. 6. 5. 5. 5. 5. 5. 5. 5. 5. 6. 6. 5. 6. 4. 6. 6.\n",
      " 5. 5. 6. 5. 6. 6. 7. 6. 5. 5. 5. 5. 7. 6. 6. 5. 5. 6. 4. 6. 6. 6. 5. 6.\n",
      " 7. 7. 6. 5. 5. 7. 5. 7. 5. 6. 6. 4. 5. 6. 5. 6. 5. 6. 5. 7. 5. 5. 6. 5.\n",
      " 4. 5. 6. 6. 6. 6. 6. 4. 5. 7. 5. 6. 5. 6. 7. 8. 6. 5. 5. 6. 6. 6. 7. 5.\n",
      " 5. 6. 6. 5. 6. 6. 6. 5. 5. 5. 6. 4. 5. 5. 5. 6. 5. 8. 6. 5. 6. 5. 5. 6.\n",
      " 6. 7. 7. 6. 5. 6. 5. 5. 6. 6. 4. 7. 6. 4. 6. 6. 5. 5. 7. 7. 4. 5. 6. 6.\n",
      " 5. 5. 7. 6. 4. 5. 5. 5. 5. 5. 7. 6. 6. 6. 6. 6. 6. 8. 7. 6. 5. 5. 6. 7.\n",
      " 6. 5. 6. 7. 6. 6. 7. 6. 6. 6. 7. 6. 5. 6. 6. 5. 7. 6. 5. 6. 6. 6. 5. 7.\n",
      " 6. 5. 5. 5. 5. 6. 5. 7. 7. 6. 7. 6. 5. 4. 6. 5. 5. 6. 6. 6. 5. 6. 8. 5.\n",
      " 5. 5. 5. 6. 5. 6. 6. 5. 6. 5. 6. 5. 7. 6. 5. 5. 6. 5. 5. 5. 5. 6.]\n"
     ]
    }
   ],
   "source": [
    "from sklearn.preprocessing import MinMaxScaler\n",
    "\n",
    "\n",
    "y=df.quality\n",
    "features=['fixed acidity', 'volatile acidity', 'citric acid', 'residual sugar',\n",
    "       'chlorides']\n",
    "X = df[features]\n",
    "\n",
    "# Split into validation and training data\n",
    "X_train, X_val, y_train, y_val = train_test_split(X,y,random_state=1)\n",
    "# Specify Model\n",
    "df_model = DecisionTreeRegressor(random_state=1)\n",
    "\n",
    "# Fit Model\n",
    "df_model_norm =  MinMaxScaler().fit(X_train)\n",
    "# Normalise Model\n",
    "X_train_norm = df_model_norm.transform(X_train)\n",
    "X_val_norm = df_model_norm.transform(X_val)\n",
    "\n",
    "df_model.fit(X_train_norm, y_train)\n",
    "\n",
    "qual_predictions2 = df_model.predict(X_val_norm)\n",
    "\n",
    "y_actual = df.quality\n",
    "y_predicted = df_model.predict(X)\n",
    "c_matrix = metrics.confusion_matrix(y_actual, y_predicted)\n",
    "\n",
    "#print(X_val_norm)\n",
    "print(c_matrix)\n",
    "print(qual_predictions2)\n"
   ]
  },
  {
   "cell_type": "code",
   "execution_count": 175,
   "metadata": {},
   "outputs": [
    {
     "data": {
      "text/plain": [
       "(0.894640253211521, 0.8932633420822397, 0.8931423325292326, None)"
      ]
     },
     "execution_count": 175,
     "metadata": {},
     "output_type": "execute_result"
    }
   ],
   "source": [
    "from sklearn.metrics import precision_recall_fscore_support\n",
    "\n",
    "y_true = df.quality\n",
    "y_pred = y_predicted\n",
    "\n",
    "\n",
    "precision_recall_fscore_support(y_true, y_pred, average='weighted')"
   ]
  }
 ],
 "metadata": {
  "interpreter": {
   "hash": "40d3a090f54c6569ab1632332b64b2c03c39dcf918b08424e98f38b5ae0af88f"
  },
  "kernelspec": {
   "display_name": "Python 3.9.7 ('base')",
   "language": "python",
   "name": "python3"
  },
  "language_info": {
   "codemirror_mode": {
    "name": "ipython",
    "version": 3
   },
   "file_extension": ".py",
   "mimetype": "text/x-python",
   "name": "python",
   "nbconvert_exporter": "python",
   "pygments_lexer": "ipython3",
   "version": "3.9.7"
  },
  "orig_nbformat": 4
 },
 "nbformat": 4,
 "nbformat_minor": 2
}
