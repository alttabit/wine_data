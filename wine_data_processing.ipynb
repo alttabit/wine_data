{
 "cells": [
  {
   "cell_type": "code",
   "execution_count": 54,
   "metadata": {},
   "outputs": [],
   "source": [
    "import pandas as pd \n",
    "from sklearn.model_selection import train_test_split, GridSearchCV\n",
    "from sklearn.tree import DecisionTreeRegressor\n",
    "from sklearn import metrics\n",
    "from sklearn.metrics import precision_recall_fscore_support\n",
    "from sklearn.compose import ColumnTransformer\n",
    "from sklearn.pipeline import Pipeline\n",
    "from sklearn.impute import SimpleImputer\n",
    "from sklearn.preprocessing import StandardScaler, OneHotEncoder\n",
    "from sklearn.metrics import mean_absolute_error\n",
    "from sklearn.linear_model import LogisticRegression\n",
    "\n",
    "df = pd.read_csv('WineQT.csv')\n",
    "df = df.drop(columns='Id')\n"
   ]
  },
  {
   "cell_type": "code",
   "execution_count": 61,
   "metadata": {},
   "outputs": [
    {
     "name": "stdout",
     "output_type": "stream",
     "text": [
      "[6 5 6 6 5 7 5 5 5 5 6 6 5 6 6 6 6 5 5 6 5 6 5 6 6 6 5 6 6 6 6 6 7 5 5 5 6\n",
      " 6 5 5 7 6 7 6 6 6 6 5 5 5 5 5 5 5 5 5 5 5 5 6 5 6 6 6 5 6 5 5 6 5 6 6 6 5\n",
      " 5 5 5 5 5 6 5 5 6 6 6 5 5 6 5 6 5 6 6 6 5 5 6 7 6 5 6 5 5 6 5 6 6 5 5 6 6\n",
      " 5 6 5 7 6 5 5 6 6 5 5 7 6 5 5 5 5 5 5 5 6 5 6 7 6 5 5 6 5 5 6 6 5 5 7 5 6\n",
      " 6 6 7 5 5 5 5 6 6 5 6 5 5 6 5 5 5 5 5 6 5 6 5 6 5 7 5 6 5 6 6 6 6 7 6 7 5\n",
      " 6 7 5 5 6 6 5 6 5 6 6 5 6 3 5 6 5 6 5 6 6 6 5 5 5 5 5 5 5 7 6 6 5 6 6 6 6\n",
      " 5 6 6 7 6 5 6 5 5 5 6 6 5 6 5 5 5 7 5 5 5 6 5 6 5 6 6 6 6 5 5 6 6 6 5 6 6\n",
      " 5 5 6 7 5 5 6 5 5 5 6 5 6 7 6 5 5 6 6 7 6 5 5 5 5 5 5]\n",
      "MAE is: 0.3916083916083916\n",
      "(0.17856724602338095, 0.4225721784776903, 0.251048415995971, None)\n",
      "model score: 0.629\n"
     ]
    },
    {
     "name": "stderr",
     "output_type": "stream",
     "text": [
      "/opt/anaconda3/lib/python3.9/site-packages/sklearn/metrics/_classification.py:1248: UndefinedMetricWarning: Precision and F-score are ill-defined and being set to 0.0 in labels with no predicted samples. Use `zero_division` parameter to control this behavior.\n",
      "  _warn_prf(average, modifier, msg_start, len(result))\n"
     ]
    }
   ],
   "source": [
    "y=df.quality\n",
    "features=['fixed acidity', 'volatile acidity', 'citric acid', 'residual sugar',\n",
    "       'chlorides', 'free sulfur dioxide', 'total sulfur dioxide', 'density',\n",
    "       'sulphates', 'alcohol']\n",
    "X = df[features]\n",
    "y_true = df.quality\n",
    "y_actual = df.quality\n",
    "y_pred = df_model.predict(X)\n",
    "c_matrix = metrics.confusion_matrix(y_actual, y_pred)\n",
    "\n",
    "prf = precision_recall_fscore_support(y_true, y_pred, average='weighted')\n",
    "\n",
    "transformer = Pipeline(\n",
    "    steps=[(\"imputer\", SimpleImputer(strategy=\"mean\")), (\"scaler\", StandardScaler())])\n",
    "\n",
    "preprocessor = ColumnTransformer(\n",
    "    transformers=[\n",
    "        (\"num\", transformer, features),\n",
    "    ])\n",
    "\n",
    "clf = Pipeline(steps=[(\"preprocessor\", preprocessor), (\"classifier\", LogisticRegression())]\n",
    ")\n",
    "\n",
    "X_train, X_test, y_train, y_test = train_test_split(X,y,random_state=1)\n",
    "\n",
    "clf.fit(X_train, y_train)\n",
    "\n",
    "preds = clf.predict(X_test)\n",
    "\n",
    "mae = mean_absolute_error(y_test, preds)\n",
    "print(preds)\n",
    "print(f'MAE is: {mae}')\n",
    "print(prf)\n",
    "print(\"model score: %.3f\" % clf.score(X_test, y_test))\n"
   ]
  },
  {
   "cell_type": "code",
   "execution_count": 8,
   "metadata": {},
   "outputs": [
    {
     "name": "stdout",
     "output_type": "stream",
     "text": [
      "[[  2   0   2   2   0   0]\n",
      " [  7   0  23   3   0   0]\n",
      " [ 23  38 360  42  18   2]\n",
      " [ 13  37 323  45  37   7]\n",
      " [  4  13  80  20  23   3]\n",
      " [  0   0  11   3   2   0]]\n",
      "(0.3847436869547279, 0.3762029746281715, 0.3265618230192724, None)\n"
     ]
    }
   ],
   "source": [
    "from sklearn.preprocessing import MinMaxScaler\n",
    "\n",
    "\n",
    "y=df.quality\n",
    "features=['fixed acidity', 'volatile acidity', 'citric acid', 'residual sugar',\n",
    "       'chlorides']\n",
    "X = df[features]\n",
    "\n",
    "# Split into validation and training data\n",
    "X_train, X_val, y_train, y_val = train_test_split(X,y,random_state=1)\n",
    "# Specify Model\n",
    "df_model = DecisionTreeRegressor(random_state=1)\n",
    "\n",
    "# Fit Model\n",
    "df_model_norm =  MinMaxScaler().fit(X_train)\n",
    "# Normalise Model\n",
    "X_train_norm = df_model_norm.transform(X_train)\n",
    "X_val_norm = df_model_norm.transform(X_val)\n",
    "\n",
    "df_model.fit(X_train_norm, y_train)\n",
    "\n",
    "qual_predictions2 = df_model.predict(X_val_norm)\n",
    "\n",
    "y_true = df.quality\n",
    "y2_pred = df_model.predict(X)\n",
    "c_matrix = metrics.confusion_matrix(y_true, y2_pred)\n",
    "\n",
    "prf = precision_recall_fscore_support(y_true, y2_pred, average='weighted')\n",
    "print(c_matrix)\n",
    "print(prf)\n",
    "\n",
    "\n",
    "\n",
    "\n"
   ]
  }
 ],
 "metadata": {
  "interpreter": {
   "hash": "40d3a090f54c6569ab1632332b64b2c03c39dcf918b08424e98f38b5ae0af88f"
  },
  "kernelspec": {
   "display_name": "Python 3.9.7 ('base')",
   "language": "python",
   "name": "python3"
  },
  "language_info": {
   "codemirror_mode": {
    "name": "ipython",
    "version": 3
   },
   "file_extension": ".py",
   "mimetype": "text/x-python",
   "name": "python",
   "nbconvert_exporter": "python",
   "pygments_lexer": "ipython3",
   "version": "3.9.7"
  },
  "orig_nbformat": 4
 },
 "nbformat": 4,
 "nbformat_minor": 2
}
